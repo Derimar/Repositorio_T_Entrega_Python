{
 "cells": [
  {
   "cell_type": "code",
   "execution_count": 3,
   "id": "6819b4fe",
   "metadata": {},
   "outputs": [
    {
     "name": "stdout",
     "output_type": "stream",
     "text": [
      "610\n"
     ]
    }
   ],
   "source": [
    "print(10+20*30)"
   ]
  },
  {
   "cell_type": "code",
   "execution_count": 4,
   "id": "16235e24",
   "metadata": {},
   "outputs": [
    {
     "name": "stdout",
     "output_type": "stream",
     "text": [
      "0.5333333333333333\n"
     ]
    }
   ],
   "source": [
    "print(4**2/30)"
   ]
  },
  {
   "cell_type": "code",
   "execution_count": 5,
   "id": "6f0b38dd",
   "metadata": {},
   "outputs": [
    {
     "name": "stdout",
     "output_type": "stream",
     "text": [
      "575\n"
     ]
    }
   ],
   "source": [
    "print((94+2)*6-1)"
   ]
  },
  {
   "cell_type": "code",
   "execution_count": 6,
   "id": "a55635f4",
   "metadata": {},
   "outputs": [
    {
     "name": "stdout",
     "output_type": "stream",
     "text": [
      "107\n"
     ]
    }
   ],
   "source": [
    "print(((10+8)*(10-4))-1)"
   ]
  },
  {
   "cell_type": "code",
   "execution_count": 8,
   "id": "b91ffef4",
   "metadata": {},
   "outputs": [
    {
     "name": "stdout",
     "output_type": "stream",
     "text": [
      "2980947985820.5586\n"
     ]
    }
   ],
   "source": [
    "calculo = ((1500 + (100-9/10))*9)**3\n",
    "print(calculo)"
   ]
  },
  {
   "cell_type": "code",
   "execution_count": 2,
   "id": "2fa3b888",
   "metadata": {},
   "outputs": [
    {
     "name": "stdout",
     "output_type": "stream",
     "text": [
      "1575.0\n"
     ]
    }
   ],
   "source": [
    "salario = 1500\n",
    "aumento = 5\n",
    "print(salario + (salario * aumento / 100))"
   ]
  },
  {
   "cell_type": "code",
   "execution_count": 9,
   "id": "0ddaf6b1",
   "metadata": {},
   "outputs": [
    {
     "name": "stdout",
     "output_type": "stream",
     "text": [
      "Rodrigo Barbosa de Sousa\n"
     ]
    }
   ],
   "source": [
    "# Faça um programa que exiba seu nome na tela.\n",
    "nome = \"Rodrigo Barbosa de Sousa\"\n",
    "print(nome)"
   ]
  },
  {
   "cell_type": "code",
   "execution_count": null,
   "id": "a27b26be",
   "metadata": {},
   "outputs": [],
   "source": []
  }
 ],
 "metadata": {
  "kernelspec": {
   "display_name": "Python 3 (ipykernel)",
   "language": "python",
   "name": "python3"
  },
  "language_info": {
   "codemirror_mode": {
    "name": "ipython",
    "version": 3
   },
   "file_extension": ".py",
   "mimetype": "text/x-python",
   "name": "python",
   "nbconvert_exporter": "python",
   "pygments_lexer": "ipython3",
   "version": "3.9.7"
  }
 },
 "nbformat": 4,
 "nbformat_minor": 5
}
