{
  "nbformat": 4,
  "nbformat_minor": 0,
  "metadata": {
    "colab": {
      "name": "GabriellyCristine.ipynb",
      "provenance": [],
      "toc_visible": true,
      "authorship_tag": "ABX9TyOEuCSUmRJ5+TYqwE1Xqcz+",
      "include_colab_link": true
    },
    "kernelspec": {
      "name": "python3",
      "display_name": "Python 3"
    },
    "language_info": {
      "name": "python"
    }
  },
  "cells": [
    {
      "cell_type": "markdown",
      "metadata": {
        "id": "view-in-github",
        "colab_type": "text"
      },
      "source": [
        "<a href=\"https://colab.research.google.com/github/gabrielly390/Repositorio_T_Entrega_Python/blob/main/Atividade_python_GabriellyCristine.ipynb\" target=\"_parent\"><img src=\"https://colab.research.google.com/assets/colab-badge.svg\" alt=\"Open In Colab\"/></a>"
      ]
    },
    {
      "cell_type": "code",
      "source": [
        "#soma\n",
        "10+20*30\n"
      ],
      "metadata": {
        "colab": {
          "base_uri": "https://localhost:8080/"
        },
        "id": "ldTF9uDS2KIp",
        "outputId": "ddc1152e-fdc9-4ada-a4fa-0e0e18289088"
      },
      "execution_count": 1,
      "outputs": [
        {
          "output_type": "execute_result",
          "data": {
            "text/plain": [
              "610"
            ]
          },
          "metadata": {},
          "execution_count": 1
        }
      ]
    },
    {
      "cell_type": "code",
      "source": [
        "#exponenciação e divisão\n",
        "4**2/30\n"
      ],
      "metadata": {
        "colab": {
          "base_uri": "https://localhost:8080/"
        },
        "id": "Hbbaitb422Ut",
        "outputId": "66ca0abb-66f4-47da-b93c-49777700e623"
      },
      "execution_count": 2,
      "outputs": [
        {
          "output_type": "execute_result",
          "data": {
            "text/plain": [
              "0.5333333333333333"
            ]
          },
          "metadata": {},
          "execution_count": 2
        }
      ]
    },
    {
      "cell_type": "code",
      "source": [
        "#soma e subtração e divisão\n",
        "(94+2)*6-1\n"
      ],
      "metadata": {
        "colab": {
          "base_uri": "https://localhost:8080/"
        },
        "id": "lMLjQS7y3Lpc",
        "outputId": "f0794b20-d466-4b77-edfd-07cba6c602a9"
      },
      "execution_count": 3,
      "outputs": [
        {
          "output_type": "execute_result",
          "data": {
            "text/plain": [
              "575"
            ]
          },
          "metadata": {},
          "execution_count": 3
        }
      ]
    },
    {
      "cell_type": "code",
      "source": [
        "#soma e multiplicação e subtração\n",
        "((10+8)*(10-4))-1"
      ],
      "metadata": {
        "colab": {
          "base_uri": "https://localhost:8080/"
        },
        "id": "UQe5vGrH3dj4",
        "outputId": "6374d8d6-1238-458e-9791-61b30c4fe05d"
      },
      "execution_count": 4,
      "outputs": [
        {
          "output_type": "execute_result",
          "data": {
            "text/plain": [
              "107"
            ]
          },
          "metadata": {},
          "execution_count": 4
        }
      ]
    },
    {
      "cell_type": "code",
      "source": [
        "#soma e divisão e subtração e exponenciação\n",
        "((1500+(100-9/10)*9)**3)"
      ],
      "metadata": {
        "colab": {
          "base_uri": "https://localhost:8080/"
        },
        "id": "c14eYaPH4U2l",
        "outputId": "d86af6c8-f621-4d28-d7b2-590035d1d7b1"
      },
      "execution_count": 6,
      "outputs": [
        {
          "output_type": "execute_result",
          "data": {
            "text/plain": [
              "13684503860.559002"
            ]
          },
          "metadata": {},
          "execution_count": 6
        }
      ]
    },
    {
      "cell_type": "code",
      "source": [
        "10%3*10**2+1-10*4/2"
      ],
      "metadata": {
        "colab": {
          "base_uri": "https://localhost:8080/"
        },
        "id": "YxasYRZo47w-",
        "outputId": "3903275a-b7fc-4461-82bd-f26c7f6d82c1"
      },
      "execution_count": 7,
      "outputs": [
        {
          "output_type": "execute_result",
          "data": {
            "text/plain": [
              "81.0"
            ]
          },
          "metadata": {},
          "execution_count": 7
        }
      ]
    },
    {
      "cell_type": "code",
      "source": [
        "salario=750#(1)\n",
        "aumento= 15#(2)\n",
        "print(salario+(salario * aumento / 100))#3"
      ],
      "metadata": {
        "colab": {
          "base_uri": "https://localhost:8080/"
        },
        "id": "ipo-51jP5cxU",
        "outputId": "a8e21bd1-12b5-4758-f5ab-a1e3dbbf873d"
      },
      "execution_count": 9,
      "outputs": [
        {
          "output_type": "stream",
          "name": "stdout",
          "text": [
            "862.5\n"
          ]
        }
      ]
    },
    {
      "cell_type": "code",
      "source": [
        "print(\"gabrielly\")"
      ],
      "metadata": {
        "colab": {
          "base_uri": "https://localhost:8080/"
        },
        "id": "vHrNZQZW6Sm-",
        "outputId": "1f075663-b819-4db8-af8d-28e1922b18a3"
      },
      "execution_count": 10,
      "outputs": [
        {
          "output_type": "stream",
          "name": "stdout",
          "text": [
            "gabrielly\n"
          ]
        }
      ]
    },
    {
      "cell_type": "code",
      "source": [
        "a=3 #(1)\n",
        "b=5 #(2)\n",
        "print(2*a*3*b)"
      ],
      "metadata": {
        "colab": {
          "base_uri": "https://localhost:8080/"
        },
        "id": "8dM9srBb6zqV",
        "outputId": "d7dccb78-91df-46d9-e4cd-72411c840995"
      },
      "execution_count": 13,
      "outputs": [
        {
          "output_type": "stream",
          "name": "stdout",
          "text": [
            "90\n"
          ]
        }
      ]
    },
    {
      "cell_type": "code",
      "source": [
        "a = 2566 #(1)\n",
        "b = 254 #(2)\n",
        "c = 543 #(3)\n",
        "print(a+b+c)"
      ],
      "metadata": {
        "colab": {
          "base_uri": "https://localhost:8080/"
        },
        "id": "1m2GYnaX7K_A",
        "outputId": "7ecbebdc-f569-49aa-cd81-e538a7a8979b"
      },
      "execution_count": 14,
      "outputs": [
        {
          "output_type": "stream",
          "name": "stdout",
          "text": [
            "3363\n"
          ]
        }
      ]
    },
    {
      "cell_type": "code",
      "source": [
        "METROS=1560\n",
        "METROS*100"
      ],
      "metadata": {
        "colab": {
          "base_uri": "https://localhost:8080/"
        },
        "id": "Qom6AKnu7oTX",
        "outputId": "f426b129-03f9-4452-8e4f-1c6209ac1566"
      },
      "execution_count": 18,
      "outputs": [
        {
          "output_type": "execute_result",
          "data": {
            "text/plain": [
              "156000"
            ]
          },
          "metadata": {},
          "execution_count": 18
        }
      ]
    },
    {
      "cell_type": "code",
      "source": [
        ""
      ],
      "metadata": {
        "id": "r-GodYeIA4E1"
      },
      "execution_count": null,
      "outputs": []
    }
  ]
}