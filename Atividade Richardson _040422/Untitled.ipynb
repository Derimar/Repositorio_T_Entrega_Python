{
 "cells": [
  {
   "cell_type": "code",
   "execution_count": 1,
   "id": "9be64320",
   "metadata": {},
   "outputs": [
    {
     "name": "stdout",
     "output_type": "stream",
     "text": [
      "SEJA BEM VINDO\n"
     ]
    }
   ],
   "source": [
    "print(\"SEJA BEM VINDO\")"
   ]
  },
  {
   "cell_type": "code",
   "execution_count": 2,
   "id": "2b8d995f",
   "metadata": {},
   "outputs": [
    {
     "name": "stdout",
     "output_type": "stream",
     "text": [
      "15\n"
     ]
    }
   ],
   "source": [
    "print(5+5+5)"
   ]
  },
  {
   "cell_type": "code",
   "execution_count": 5,
   "id": "0c5d1699",
   "metadata": {},
   "outputs": [
    {
     "name": "stdout",
     "output_type": "stream",
     "text": [
      "RICHARDSON\n"
     ]
    }
   ],
   "source": [
    "print(\"RICHARDSON\")"
   ]
  },
  {
   "cell_type": "code",
   "execution_count": 7,
   "id": "30916712",
   "metadata": {
    "scrolled": false
   },
   "outputs": [
    {
     "name": "stdout",
     "output_type": "stream",
     "text": [
      "olá mundo\n"
     ]
    }
   ],
   "source": [
    "print(\"olá mundo\")"
   ]
  },
  {
   "cell_type": "code",
   "execution_count": 8,
   "id": "8996f9d0",
   "metadata": {},
   "outputs": [
    {
     "data": {
      "text/plain": [
       "5"
      ]
     },
     "execution_count": 8,
     "metadata": {},
     "output_type": "execute_result"
    }
   ],
   "source": [
    "1+4"
   ]
  },
  {
   "cell_type": "code",
   "execution_count": 9,
   "id": "e242cc53",
   "metadata": {},
   "outputs": [
    {
     "name": "stdout",
     "output_type": "stream",
     "text": [
      "4\n"
     ]
    }
   ],
   "source": [
    "print(2**2)"
   ]
  },
  {
   "cell_type": "code",
   "execution_count": 10,
   "id": "ed61b232",
   "metadata": {},
   "outputs": [
    {
     "name": "stdout",
     "output_type": "stream",
     "text": [
      "3.3333333333333335\n"
     ]
    }
   ],
   "source": [
    "print(10/3)"
   ]
  },
  {
   "cell_type": "code",
   "execution_count": 13,
   "id": "871d4c38",
   "metadata": {},
   "outputs": [
    {
     "name": "stdout",
     "output_type": "stream",
     "text": [
      "1\n"
     ]
    }
   ],
   "source": [
    "print(100%3)"
   ]
  },
  {
   "cell_type": "code",
   "execution_count": 18,
   "id": "48e79e71",
   "metadata": {},
   "outputs": [
    {
     "data": {
      "text/plain": [
       "610"
      ]
     },
     "execution_count": 18,
     "metadata": {},
     "output_type": "execute_result"
    }
   ],
   "source": [
    "(10+20*30)\n",
    "\n",
    "\n",
    "\n",
    "\n",
    "\n",
    "\n"
   ]
  },
  {
   "cell_type": "code",
   "execution_count": 19,
   "id": "efa4ce9d",
   "metadata": {},
   "outputs": [
    {
     "data": {
      "text/plain": [
       "1.4"
      ]
     },
     "execution_count": 19,
     "metadata": {},
     "output_type": "execute_result"
    }
   ],
   "source": [
    "42/30"
   ]
  },
  {
   "cell_type": "code",
   "execution_count": 20,
   "id": "64300b30",
   "metadata": {},
   "outputs": [
    {
     "data": {
      "text/plain": [
       "575"
      ]
     },
     "execution_count": 20,
     "metadata": {},
     "output_type": "execute_result"
    }
   ],
   "source": [
    "(94+2)*6-1"
   ]
  },
  {
   "cell_type": "code",
   "execution_count": 21,
   "id": "10123483",
   "metadata": {},
   "outputs": [
    {
     "data": {
      "text/plain": [
       "107"
      ]
     },
     "execution_count": 21,
     "metadata": {},
     "output_type": "execute_result"
    }
   ],
   "source": [
    "((10+8)*(10-4))-1"
   ]
  },
  {
   "cell_type": "code",
   "execution_count": 22,
   "id": "50e9db6f",
   "metadata": {},
   "outputs": [
    {
     "ename": "SyntaxError",
     "evalue": "closing parenthesis ']' does not match opening parenthesis '(' (Temp/ipykernel_10032/390304550.py, line 1)",
     "output_type": "error",
     "traceback": [
      "\u001b[1;36m  File \u001b[1;32m\"C:\\Users\\aluno17\\AppData\\Local\\Temp/ipykernel_10032/390304550.py\"\u001b[1;36m, line \u001b[1;32m1\u001b[0m\n\u001b[1;33m    [((1500+((100-9)/10))]\u001b[0m\n\u001b[1;37m                         ^\u001b[0m\n\u001b[1;31mSyntaxError\u001b[0m\u001b[1;31m:\u001b[0m closing parenthesis ']' does not match opening parenthesis '('\n"
     ]
    }
   ],
   "source": [
    "[((1500+((100-9)/10))]"
   ]
  },
  {
   "cell_type": "code",
   "execution_count": 24,
   "id": "c3dcd6d4",
   "metadata": {},
   "outputs": [
    {
     "name": "stdout",
     "output_type": "stream",
     "text": [
      "25\n"
     ]
    }
   ],
   "source": [
    "a=10 #(1)\n",
    "b=15 #(2)\n",
    "print(a+b)"
   ]
  },
  {
   "cell_type": "code",
   "execution_count": 26,
   "id": "553fe763",
   "metadata": {},
   "outputs": [
    {
     "name": "stdout",
     "output_type": "stream",
     "text": [
      "1575.0\n"
     ]
    }
   ],
   "source": [
    "salário=1500 #(1)\n",
    "aumento=5 #(2)\n",
    "\n",
    "print(salário+(salário*aumento/100)) #(3)"
   ]
  },
  {
   "cell_type": "code",
   "execution_count": 32,
   "id": "c60124ba",
   "metadata": {},
   "outputs": [
    {
     "name": "stdout",
     "output_type": "stream",
     "text": [
      "RICHARDSON PINHEIRO MOTA\n"
     ]
    }
   ],
   "source": [
    "NOME=\"RICHARDSON \"\n",
    "\n",
    "print(NOME +\"PINHEIRO \"\"MOTA\")"
   ]
  },
  {
   "cell_type": "code",
   "execution_count": 33,
   "id": "00f5673f",
   "metadata": {},
   "outputs": [
    {
     "name": "stdout",
     "output_type": "stream",
     "text": [
      "862.5\n"
     ]
    }
   ],
   "source": [
    "salário=750 #(1)\n",
    "aumento=15 #(2)\n",
    "\n",
    "print(salário+(salário*aumento/100)) #(3)"
   ]
  },
  {
   "cell_type": "code",
   "execution_count": 44,
   "id": "cc883843",
   "metadata": {},
   "outputs": [
    {
     "name": "stdout",
     "output_type": "stream",
     "text": [
      "10000\n"
     ]
    }
   ],
   "source": [
    "metros = 100\n",
    "\n",
    "centímetros  =  metros  *  100 \n",
    "\n",
    "print(centímetros)"
   ]
  },
  {
   "cell_type": "code",
   "execution_count": null,
   "id": "20807e51",
   "metadata": {},
   "outputs": [],
   "source": []
  },
  {
   "cell_type": "code",
   "execution_count": null,
   "id": "bbafd333",
   "metadata": {},
   "outputs": [],
   "source": []
  }
 ],
 "metadata": {
  "kernelspec": {
   "display_name": "Python 3 (ipykernel)",
   "language": "python",
   "name": "python3"
  },
  "language_info": {
   "codemirror_mode": {
    "name": "ipython",
    "version": 3
   },
   "file_extension": ".py",
   "mimetype": "text/x-python",
   "name": "python",
   "nbconvert_exporter": "python",
   "pygments_lexer": "ipython3",
   "version": "3.9.7"
  }
 },
 "nbformat": 4,
 "nbformat_minor": 5
}
